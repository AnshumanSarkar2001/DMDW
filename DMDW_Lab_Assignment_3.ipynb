{
  "nbformat": 4,
  "nbformat_minor": 0,
  "metadata": {
    "colab": {
      "name": "DMDW Lab_Assignment_3.ipynb",
      "provenance": [],
      "include_colab_link": true
    },
    "kernelspec": {
      "name": "python3",
      "display_name": "Python 3"
    },
    "language_info": {
      "name": "python"
    }
  },
  "cells": [
    {
      "cell_type": "markdown",
      "metadata": {
        "id": "view-in-github",
        "colab_type": "text"
      },
      "source": [
        "<a href=\"https://colab.research.google.com/github/AnshumanSarkar2001/DMDW/blob/main/DMDW_Lab_Assignment_3.ipynb\" target=\"_parent\"><img src=\"https://colab.research.google.com/assets/colab-badge.svg\" alt=\"Open In Colab\"/></a>"
      ]
    },
    {
      "cell_type": "code",
      "metadata": {
        "id": "OPiBtBD0dfh3"
      },
      "source": [
        "from numpy import *"
      ],
      "execution_count": 1,
      "outputs": []
    },
    {
      "cell_type": "code",
      "metadata": {
        "id": "ZFvpdLE7dv6X"
      },
      "source": [
        "X=[7.8,8.2,8.7,9.2,9.5]\n",
        "Y=[3,3.2,3.8,4.1,4.4]"
      ],
      "execution_count": 5,
      "outputs": []
    },
    {
      "cell_type": "markdown",
      "metadata": {
        "id": "PVRaYHUMeI5h"
      },
      "source": [
        "Variance using Library Function"
      ]
    },
    {
      "cell_type": "code",
      "metadata": {
        "colab": {
          "base_uri": "https://localhost:8080/"
        },
        "id": "69mf3RVsdon2",
        "outputId": "d4f1f717-8553-419a-9b24-bb7653634f60"
      },
      "source": [
        "print(\"Variance of X=\", var(X))\n",
        "print(\"Variance of Y=\", var(Y))"
      ],
      "execution_count": 6,
      "outputs": [
        {
          "output_type": "stream",
          "name": "stdout",
          "text": [
            "Variance of X= 0.38960000000000006\n",
            "Variance of Y= 0.27999999999999997\n"
          ]
        }
      ]
    },
    {
      "cell_type": "markdown",
      "metadata": {
        "id": "JK4T_HAgeLx2"
      },
      "source": [
        "Variance without using library function"
      ]
    },
    {
      "cell_type": "code",
      "metadata": {
        "colab": {
          "base_uri": "https://localhost:8080/"
        },
        "id": "YHQijcsddx5O",
        "outputId": "6f6b171a-f8c4-49cc-84ff-4054bad132fc"
      },
      "source": [
        "m= sum(X)/len(X)\n",
        "res1= sum((i-m)**2 for i in X)/len(X)\n",
        "n= sum(Y)/len(Y)\n",
        "res2= sum((i-n)**2 for i in Y)/len(Y)\n",
        "print(\"Variance of X=\", str(res1))\n",
        "print(\"Variance of Y=\", str(res2))"
      ],
      "execution_count": 7,
      "outputs": [
        {
          "output_type": "stream",
          "name": "stdout",
          "text": [
            "Variance of X= 0.38960000000000006\n",
            "Variance of Y= 0.27999999999999997\n"
          ]
        },
        {
          "output_type": "stream",
          "name": "stderr",
          "text": [
            "/usr/local/lib/python3.7/dist-packages/ipykernel_launcher.py:2: DeprecationWarning: Calling np.sum(generator) is deprecated, and in the future will give a different result. Use np.sum(np.fromiter(generator)) or the python sum builtin instead.\n",
            "  \n",
            "/usr/local/lib/python3.7/dist-packages/ipykernel_launcher.py:4: DeprecationWarning: Calling np.sum(generator) is deprecated, and in the future will give a different result. Use np.sum(np.fromiter(generator)) or the python sum builtin instead.\n",
            "  after removing the cwd from sys.path.\n"
          ]
        }
      ]
    },
    {
      "cell_type": "markdown",
      "metadata": {
        "id": "IswEy0S1ePA2"
      },
      "source": [
        "Covariance without using library function"
      ]
    },
    {
      "cell_type": "code",
      "metadata": {
        "colab": {
          "base_uri": "https://localhost:8080/"
        },
        "id": "Q4zYk5yzd03m",
        "outputId": "d0f30eca-ab95-4a12-fce2-0d2b6a1b2982"
      },
      "source": [
        "res= sum((X[i]-m)*(Y[i]-n) for i in range(len(X)))/len(Y)\n",
        "print(\"Covariance=\",res)"
      ],
      "execution_count": 8,
      "outputs": [
        {
          "output_type": "stream",
          "name": "stdout",
          "text": [
            "Covariance= 0.328\n"
          ]
        },
        {
          "output_type": "stream",
          "name": "stderr",
          "text": [
            "/usr/local/lib/python3.7/dist-packages/ipykernel_launcher.py:1: DeprecationWarning: Calling np.sum(generator) is deprecated, and in the future will give a different result. Use np.sum(np.fromiter(generator)) or the python sum builtin instead.\n",
            "  \"\"\"Entry point for launching an IPython kernel.\n"
          ]
        }
      ]
    },
    {
      "cell_type": "markdown",
      "metadata": {
        "id": "NR2ryue5eRtu"
      },
      "source": [
        "Covariance using library function"
      ]
    },
    {
      "cell_type": "code",
      "metadata": {
        "colab": {
          "base_uri": "https://localhost:8080/"
        },
        "id": "dEpRch2od5bO",
        "outputId": "8c12fe3a-468c-4239-a555-60c237c1993a"
      },
      "source": [
        "print(\"Covariance =\",cov(X,Y))"
      ],
      "execution_count": 9,
      "outputs": [
        {
          "output_type": "stream",
          "name": "stdout",
          "text": [
            "Covariance = [[0.487 0.41 ]\n",
            " [0.41  0.35 ]]\n"
          ]
        }
      ]
    },
    {
      "cell_type": "markdown",
      "metadata": {
        "id": "q9eIZ3xIeT_O"
      },
      "source": [
        "Correlation without using library function"
      ]
    },
    {
      "cell_type": "code",
      "metadata": {
        "colab": {
          "base_uri": "https://localhost:8080/"
        },
        "id": "lblyGE3Zd8-m",
        "outputId": "3665ef9c-7fb6-4a92-a180-dc36cd8dd458"
      },
      "source": [
        "print(\"Correlation=\",(res/((res1*res2)**0.5)))"
      ],
      "execution_count": 10,
      "outputs": [
        {
          "output_type": "stream",
          "name": "stdout",
          "text": [
            "Correlation= 0.9930825573330169\n"
          ]
        }
      ]
    },
    {
      "cell_type": "markdown",
      "metadata": {
        "id": "InPIWav2eUxO"
      },
      "source": [
        "Correlation matrix using library function"
      ]
    },
    {
      "cell_type": "code",
      "metadata": {
        "colab": {
          "base_uri": "https://localhost:8080/"
        },
        "id": "ngCRDij8eCU-",
        "outputId": "f574eb8f-69d9-4dc3-94cb-70e257f2b452"
      },
      "source": [
        "print(corrcoef(X,Y))"
      ],
      "execution_count": 11,
      "outputs": [
        {
          "output_type": "stream",
          "name": "stdout",
          "text": [
            "[[1.         0.99308256]\n",
            " [0.99308256 1.        ]]\n"
          ]
        }
      ]
    }
  ]
}