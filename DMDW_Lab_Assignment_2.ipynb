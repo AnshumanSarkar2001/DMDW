{
  "nbformat": 4,
  "nbformat_minor": 0,
  "metadata": {
    "colab": {
      "name": "DMDW Lab_Assignment_2.ipynb",
      "provenance": [],
      "include_colab_link": true
    },
    "kernelspec": {
      "name": "python3",
      "display_name": "Python 3"
    },
    "language_info": {
      "name": "python"
    }
  },
  "cells": [
    {
      "cell_type": "markdown",
      "metadata": {
        "id": "view-in-github",
        "colab_type": "text"
      },
      "source": [
        "<a href=\"https://colab.research.google.com/github/AnshumanSarkar2001/DMDW/blob/main/DMDW_Lab_Assignment_2.ipynb\" target=\"_parent\"><img src=\"https://colab.research.google.com/assets/colab-badge.svg\" alt=\"Open In Colab\"/></a>"
      ]
    },
    {
      "cell_type": "markdown",
      "metadata": {
        "id": "wern8QpIMFbU"
      },
      "source": [
        "Assignment - 2\n",
        "Execute and explain 10 most used commands in numpy\n",
        "and 5 most used commands in Pandas"
      ]
    },
    {
      "cell_type": "markdown",
      "metadata": {
        "id": "8ZLbySonMJD7"
      },
      "source": [
        "10 commands of numpy"
      ]
    },
    {
      "cell_type": "markdown",
      "metadata": {
        "id": "iht0CgZdMZsz"
      },
      "source": [
        "1.Array"
      ]
    },
    {
      "cell_type": "code",
      "metadata": {
        "colab": {
          "base_uri": "https://localhost:8080/"
        },
        "id": "8CQngcsJMNDD",
        "outputId": "db07bb7f-dd51-4f64-dd79-444a9cb6fef9"
      },
      "source": [
        "import numpy as np\n",
        "arr=np.array([1,2,3,4])\n",
        "print(arr)\n",
        "print(type(arr))"
      ],
      "execution_count": 1,
      "outputs": [
        {
          "output_type": "stream",
          "name": "stdout",
          "text": [
            "[1 2 3 4]\n",
            "<class 'numpy.ndarray'>\n"
          ]
        }
      ]
    },
    {
      "cell_type": "markdown",
      "metadata": {
        "id": "arcydhkNM70z"
      },
      "source": [
        "2.empty()"
      ]
    },
    {
      "cell_type": "code",
      "metadata": {
        "colab": {
          "base_uri": "https://localhost:8080/"
        },
        "id": "uMwSFuEPM_Si",
        "outputId": "af39add1-221a-4a5f-aae5-843d2a91f8a7"
      },
      "source": [
        "import numpy as np\n",
        "arr=np.empty([2,2])\n",
        "print(arr)"
      ],
      "execution_count": 2,
      "outputs": [
        {
          "output_type": "stream",
          "name": "stdout",
          "text": [
            "[[1. 1.]\n",
            " [1. 0.]]\n"
          ]
        }
      ]
    },
    {
      "cell_type": "markdown",
      "metadata": {
        "id": "u-Df8tkcNXVT"
      },
      "source": [
        "3.zeros()"
      ]
    },
    {
      "cell_type": "code",
      "metadata": {
        "colab": {
          "base_uri": "https://localhost:8080/"
        },
        "id": "gKKg4JK6NaES",
        "outputId": "3d00ce24-7af1-4daf-e8dd-dc47119b0b26"
      },
      "source": [
        "import numpy as np\n",
        "arr=np.zeros(2,dtype=int)\n",
        "print(arr)"
      ],
      "execution_count": 3,
      "outputs": [
        {
          "output_type": "stream",
          "name": "stdout",
          "text": [
            "[0 0]\n"
          ]
        }
      ]
    },
    {
      "cell_type": "markdown",
      "metadata": {
        "id": "3fR-7DewNsBq"
      },
      "source": [
        "4.ones()"
      ]
    },
    {
      "cell_type": "code",
      "metadata": {
        "colab": {
          "base_uri": "https://localhost:8080/"
        },
        "id": "xlSmsX-RNuFa",
        "outputId": "207f184a-cddf-4656-d437-13b1de21bc36"
      },
      "source": [
        "import numpy as np\n",
        "arr=np.ones([2,2],dtype=int)\n",
        "print(arr)"
      ],
      "execution_count": 4,
      "outputs": [
        {
          "output_type": "stream",
          "name": "stdout",
          "text": [
            "[[1 1]\n",
            " [1 1]]\n"
          ]
        }
      ]
    },
    {
      "cell_type": "markdown",
      "metadata": {
        "id": "39z_iUD4N31y"
      },
      "source": [
        "5.vstack"
      ]
    },
    {
      "cell_type": "code",
      "metadata": {
        "colab": {
          "base_uri": "https://localhost:8080/"
        },
        "id": "-oubd2teOJCZ",
        "outputId": "05d8f0bf-dc4f-4fb7-894d-6cb7e97f34ba"
      },
      "source": [
        "x=np.array([3,5,7])\n",
        "y=np.array([5,7,9])\n",
        "print(np.vstack((x,y)))"
      ],
      "execution_count": 5,
      "outputs": [
        {
          "output_type": "stream",
          "name": "stdout",
          "text": [
            "[[3 5 7]\n",
            " [5 7 9]]\n"
          ]
        }
      ]
    },
    {
      "cell_type": "markdown",
      "metadata": {
        "id": "MbW7SZX2Ogua"
      },
      "source": [
        "6.hstack"
      ]
    },
    {
      "cell_type": "code",
      "metadata": {
        "colab": {
          "base_uri": "https://localhost:8080/"
        },
        "id": "SERzwH_lOkfK",
        "outputId": "d1dd1194-6915-44e6-f1a8-f11b98eccf10"
      },
      "source": [
        "x=np.array([3,5,7])\n",
        "y=np.array([5,7,9])\n",
        "print(np.hstack((x,y)))"
      ],
      "execution_count": 6,
      "outputs": [
        {
          "output_type": "stream",
          "name": "stdout",
          "text": [
            "[3 5 7 5 7 9]\n"
          ]
        }
      ]
    },
    {
      "cell_type": "markdown",
      "metadata": {
        "id": "-FzmhIqIOthq"
      },
      "source": [
        "7.Indexing "
      ]
    },
    {
      "cell_type": "code",
      "metadata": {
        "colab": {
          "base_uri": "https://localhost:8080/"
        },
        "id": "8fSNOAWNOxJa",
        "outputId": "ff70d46a-3bd0-4866-fa46-2a566e12086f"
      },
      "source": [
        "a=np.array([1,2,3,6,9])\n",
        "print(a[3])"
      ],
      "execution_count": 7,
      "outputs": [
        {
          "output_type": "stream",
          "name": "stdout",
          "text": [
            "6\n"
          ]
        }
      ]
    },
    {
      "cell_type": "markdown",
      "metadata": {
        "id": "Sw36_Yd3PB5h"
      },
      "source": [
        "8.Slicing"
      ]
    },
    {
      "cell_type": "code",
      "metadata": {
        "colab": {
          "base_uri": "https://localhost:8080/"
        },
        "id": "PsHVViPRPFqj",
        "outputId": "9921a728-fc2b-4694-cda6-64d5028a71ce"
      },
      "source": [
        "a=np.array([1,2,3,6,9])\n",
        "print(a[1:3])"
      ],
      "execution_count": 8,
      "outputs": [
        {
          "output_type": "stream",
          "name": "stdout",
          "text": [
            "[2 3]\n"
          ]
        }
      ]
    },
    {
      "cell_type": "markdown",
      "metadata": {
        "id": "N6eqFm0uPQd4"
      },
      "source": [
        "9.shape"
      ]
    },
    {
      "cell_type": "code",
      "metadata": {
        "colab": {
          "base_uri": "https://localhost:8080/"
        },
        "id": "Z7dRPHn5PVsg",
        "outputId": "d9136f26-6459-47a2-e450-096beb53ca26"
      },
      "source": [
        "x = np.array([ [67, 63, 87],\n",
        "               [77, 69, 59],\n",
        "               [85, 87, 99],\n",
        "               [79, 72, 71],\n",
        "               [63, 89, 93],\n",
        "               [68, 92, 78]])\n",
        "\n",
        "print(np.shape(x))"
      ],
      "execution_count": 9,
      "outputs": [
        {
          "output_type": "stream",
          "name": "stdout",
          "text": [
            "(6, 3)\n"
          ]
        }
      ]
    },
    {
      "cell_type": "markdown",
      "metadata": {
        "id": "oDZ6XDnpQBci"
      },
      "source": [
        "10.Reshape"
      ]
    },
    {
      "cell_type": "code",
      "metadata": {
        "colab": {
          "base_uri": "https://localhost:8080/"
        },
        "id": "zdX7LfZQQEYr",
        "outputId": "42c2930f-9d66-4a08-b53a-1bc0fcec95b0"
      },
      "source": [
        "x = np.array([1,2,3,4,5,6,7,8])\n",
        "new=x.reshape(2,4)\n",
        "print(new)"
      ],
      "execution_count": 10,
      "outputs": [
        {
          "output_type": "stream",
          "name": "stdout",
          "text": [
            "[[1 2 3 4]\n",
            " [5 6 7 8]]\n"
          ]
        }
      ]
    },
    {
      "cell_type": "markdown",
      "metadata": {
        "id": "3mGYPBEuSeJi"
      },
      "source": [
        "5 commands of pandas"
      ]
    },
    {
      "cell_type": "markdown",
      "metadata": {
        "id": "U0LQw5cDSkVj"
      },
      "source": [
        "1.dataframe()"
      ]
    },
    {
      "cell_type": "code",
      "metadata": {
        "colab": {
          "base_uri": "https://localhost:8080/"
        },
        "id": "wqzI7lcGSpfR",
        "outputId": "e0fb4ffa-42ec-4727-d9ce-ffef4c8ff89d"
      },
      "source": [
        "import pandas as pd\n",
        "lst = [1,2,3]\n",
        "df = pd.DataFrame(lst)\n",
        "print(df)"
      ],
      "execution_count": 11,
      "outputs": [
        {
          "output_type": "stream",
          "name": "stdout",
          "text": [
            "   0\n",
            "0  1\n",
            "1  2\n",
            "2  3\n"
          ]
        }
      ]
    },
    {
      "cell_type": "markdown",
      "metadata": {
        "id": "0fQEfMErTxHn"
      },
      "source": [
        "2.head"
      ]
    },
    {
      "cell_type": "code",
      "metadata": {
        "colab": {
          "base_uri": "https://localhost:8080/"
        },
        "id": "k4tJo2k6T3LK",
        "outputId": "a29f6d83-a925-4a89-9a3a-7cb940e2de7e"
      },
      "source": [
        "import pandas as pd\n",
        "i = pd.DataFrame({1,4,2,4,6})\n",
        "i.head()\n",
        "print(i.head(2))"
      ],
      "execution_count": 12,
      "outputs": [
        {
          "output_type": "stream",
          "name": "stdout",
          "text": [
            "   0\n",
            "0  1\n",
            "1  2\n"
          ]
        }
      ]
    },
    {
      "cell_type": "markdown",
      "metadata": {
        "id": "LJaK58uvUgYp"
      },
      "source": [
        "3.describe"
      ]
    },
    {
      "cell_type": "code",
      "metadata": {
        "colab": {
          "base_uri": "https://localhost:8080/"
        },
        "id": "pho5AeeZUi7h",
        "outputId": "102d2005-f8a4-41c7-deea-b8bb52beafa8"
      },
      "source": [
        "import pandas as pd\n",
        "i = pd.Series([1,4,2,4,6])\n",
        "i.describe()\n"
      ],
      "execution_count": 13,
      "outputs": [
        {
          "output_type": "execute_result",
          "data": {
            "text/plain": [
              "count    5.000000\n",
              "mean     3.400000\n",
              "std      1.949359\n",
              "min      1.000000\n",
              "25%      2.000000\n",
              "50%      4.000000\n",
              "75%      4.000000\n",
              "max      6.000000\n",
              "dtype: float64"
            ]
          },
          "metadata": {},
          "execution_count": 13
        }
      ]
    },
    {
      "cell_type": "markdown",
      "metadata": {
        "id": "Hq2WxKspUzKV"
      },
      "source": [
        "4.loc,iloc"
      ]
    },
    {
      "cell_type": "code",
      "metadata": {
        "colab": {
          "base_uri": "https://localhost:8080/"
        },
        "id": "BBmV-vM4U9I4",
        "outputId": "cb2a81a2-751e-4896-e10d-e7597c121ef3"
      },
      "source": [
        "import pandas as pd\n",
        "df = pd.DataFrame({'Weight':[45, 88, 56, 15, 71],\n",
        "                   'Name':['RAM', 'SITA', 'HANUMAN', 'LAXMAN', 'RAVAN'],\n",
        "                   'Age':[14, 25, 55, 8, 21]})\n",
        "index_ = ['Row_1', 'Row_2', 'Row_3', 'Row_4', 'Row_5']\n",
        "df.index = index_\n",
        "result = df.loc['Row_2', 'Name']\n",
        "print(result)\n",
        "result1=df.iloc[0]\n",
        "print(result1)\n",
        "\n"
      ],
      "execution_count": 14,
      "outputs": [
        {
          "output_type": "stream",
          "name": "stdout",
          "text": [
            "SITA\n",
            "Weight     45\n",
            "Name      RAM\n",
            "Age        14\n",
            "Name: Row_1, dtype: object\n"
          ]
        }
      ]
    }
  ]
}